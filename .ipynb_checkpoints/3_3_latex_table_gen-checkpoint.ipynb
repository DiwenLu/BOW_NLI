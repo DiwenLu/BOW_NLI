{
 "cells": [
  {
   "cell_type": "code",
   "execution_count": 13,
   "metadata": {},
   "outputs": [],
   "source": [
    "import pickle as pkl\n",
    "import pandas as pd\n",
    "import numpy as np"
   ]
  },
  {
   "cell_type": "code",
   "execution_count": 14,
   "metadata": {},
   "outputs": [],
   "source": [
    "tuned_nn_acc_3_3 = pkl.load(open(\"3_3_tuned_NN_val_acc.p\",\"rb\"))"
   ]
  },
  {
   "cell_type": "code",
   "execution_count": 15,
   "metadata": {},
   "outputs": [
    {
     "name": "stdout",
     "output_type": "stream",
     "text": [
      "The max validation acc on genre fiction is 45.45\n",
      "The max validation acc on genre travel is 49.72\n",
      "The max validation acc on genre government is 48.57\n",
      "The max validation acc on genre slate is 40.27\n",
      "The max validation acc on genre telephone is 47.08\n"
     ]
    }
   ],
   "source": [
    "for genre in tuned_nn_acc_3_3.keys():\n",
    "    print('The max validation acc on genre {} is {}'.format(genre, np.around(max(tuned_nn_acc_3_3[genre]['val_accs']), 2)))"
   ]
  },
  {
   "cell_type": "code",
   "execution_count": null,
   "metadata": {},
   "outputs": [],
   "source": []
  }
 ],
 "metadata": {
  "kernelspec": {
   "display_name": "Python 3",
   "language": "python",
   "name": "python3"
  },
  "language_info": {
   "codemirror_mode": {
    "name": "ipython",
    "version": 3
   },
   "file_extension": ".py",
   "mimetype": "text/x-python",
   "name": "python",
   "nbconvert_exporter": "python",
   "pygments_lexer": "ipython3",
   "version": "3.7.3"
  }
 },
 "nbformat": 4,
 "nbformat_minor": 2
}
