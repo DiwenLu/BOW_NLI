{
 "cells": [
  {
   "cell_type": "code",
   "execution_count": 27,
   "metadata": {},
   "outputs": [],
   "source": [
    "import pandas as pd\n",
    "import pickle as pkl\n",
    "import numpy as np"
   ]
  },
  {
   "cell_type": "code",
   "execution_count": 28,
   "metadata": {},
   "outputs": [],
   "source": [
    "files = [\n",
    "        ['10000_100_concat_logistic', \n",
    "       '10000_100_concat_nn',],\n",
    "        ['10000_100_hadamard_logistic',\n",
    "       '10000_100_hadamard_nn'],\n",
    "        ['10000_100_sum_logistic',\n",
    "       '10000_100_sum_nn'],\n",
    "        ['10000_50_concat_logistic',\n",
    "       '10000_50_concat_nn'],\n",
    "        ['10000_50_hadamard_logistic',\n",
    "       '10000_50_hadamard_nn'],\n",
    "        ['10000_50_sum_logistic',\n",
    "       '10000_50_sum_nn'],\n",
    "        ['50000_100_concat_logistic',\n",
    "       '50000_100_concat_nn'],\n",
    "        ['50000_100_hadamard_logistic',\n",
    "       '50000_100_hadamard_nn'],\n",
    "        ['50000_100_sum_logistic',\n",
    "       '50000_100_sum_nn'],\n",
    "        ['50000_50_concat_logistic',\n",
    "       '50000_50_concat_nn'],\n",
    "        ['50000_50_hadamard_logistic',\n",
    "       '50000_50_hadamard_nn'],\n",
    "        ['50000_50_sum_logistic',\n",
    "       '50000_50_sum_nn']\n",
    "        ]"
   ]
  },
  {
   "cell_type": "code",
   "execution_count": 29,
   "metadata": {},
   "outputs": [],
   "source": [
    "dic = {'interaction':[],\n",
    "    'vocab_size':[],\n",
    "    'embed_dim':[],\n",
    "    'max_nn_val_acc':[],\n",
    "    'max_log_val_acc':[]\n",
    "    }\n"
   ]
  },
  {
   "cell_type": "code",
   "execution_count": 30,
   "metadata": {},
   "outputs": [],
   "source": [
    "i = []\n",
    "v = []\n",
    "e = []\n",
    "max_nn = []\n",
    "max_log = []\n",
    "\n",
    "\n",
    "for pair in files:\n",
    "    log = pkl.load(open(pair[0]+'.p',\"rb\"))\n",
    "    nn = pkl.load(open(pair[1]+'.p',\"rb\"))\n",
    "    file_info = pair[0].split('_')\n",
    "    dic['interaction'].append(file_info[2])\n",
    "    dic['embed_dim'].append(file_info[1])\n",
    "    dic['vocab_size'].append(file_info[0])\n",
    "    \n",
    "    log_val_accs = log['val_accs']\n",
    "    nn_val_accs = nn['val_accs']\n",
    "    \n",
    "    dic['max_nn_val_acc'].append(max(np.around(nn_val_accs, decimals=2)))\n",
    "    dic['max_log_val_acc'].append(max(np.around(log_val_accs, decimals=2)))\n"
   ]
  },
  {
   "cell_type": "code",
   "execution_count": 31,
   "metadata": {},
   "outputs": [],
   "source": [
    "df = pd.DataFrame(dic, columns = list(dic.keys()))"
   ]
  },
  {
   "cell_type": "code",
   "execution_count": 32,
   "metadata": {},
   "outputs": [],
   "source": [
    "with open('df.tex','w') as tf:\n",
    "    tf.write(df.to_latex())"
   ]
  }
 ],
 "metadata": {
  "kernelspec": {
   "display_name": "Python 3",
   "language": "python",
   "name": "python3"
  },
  "language_info": {
   "codemirror_mode": {
    "name": "ipython",
    "version": 3
   },
   "file_extension": ".py",
   "mimetype": "text/x-python",
   "name": "python",
   "nbconvert_exporter": "python",
   "pygments_lexer": "ipython3",
   "version": "3.7.3"
  }
 },
 "nbformat": 4,
 "nbformat_minor": 2
}
